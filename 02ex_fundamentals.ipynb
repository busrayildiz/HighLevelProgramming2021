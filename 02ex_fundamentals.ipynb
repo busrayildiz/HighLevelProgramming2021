{
  "nbformat": 4,
  "nbformat_minor": 0,
  "metadata": {
    "kernelspec": {
      "display_name": "Python 3",
      "language": "python",
      "name": "python3"
    },
    "language_info": {
      "codemirror_mode": {
        "name": "ipython",
        "version": 3
      },
      "file_extension": ".py",
      "mimetype": "text/x-python",
      "name": "python",
      "nbconvert_exporter": "python",
      "pygments_lexer": "ipython3",
      "version": "3.8.5"
    },
    "colab": {
      "name": "02ex_fundamentals.ipynb",
      "provenance": [],
      "collapsed_sections": []
    }
  },
  "cells": [
    {
      "cell_type": "markdown",
      "metadata": {
        "id": "BHCKOuQhGsXd"
      },
      "source": [
        "1. Write the following expressions using the list comprehension"
      ]
    },
    {
      "cell_type": "code",
      "metadata": {
        "colab": {
          "base_uri": "https://localhost:8080/"
        },
        "id": "qYra_p3cGsXi",
        "outputId": "71aa3307-341a-41f0-a340-c886ff69ddb0"
      },
      "source": [
        "# 1\n",
        "ans = []\n",
        "for i in range(3):\n",
        "    for j in range(4):\n",
        "        ans.append((i, j))\n",
        "print(ans)\n",
        "\n",
        "# 2\n",
        "ans = map(lambda x: x * x, filter(lambda x: x % 2 == 1, range(10)))\n",
        "print(list(ans))"
      ],
      "execution_count": 1,
      "outputs": [
        {
          "output_type": "stream",
          "name": "stdout",
          "text": [
            "[(0, 0), (0, 1), (0, 2), (0, 3), (1, 0), (1, 1), (1, 2), (1, 3), (2, 0), (2, 1), (2, 2), (2, 3)]\n",
            "[1, 9, 25, 49, 81]\n"
          ]
        }
      ]
    },
    {
      "cell_type": "code",
      "metadata": {
        "colab": {
          "base_uri": "https://localhost:8080/"
        },
        "id": "PUsoUhlyGsXk",
        "outputId": "5202e230-039c-480f-d951-8f2eac120744"
      },
      "source": [
        "#1\n",
        "ans = []\n",
        "for i in range(3):\n",
        "  for j in range(4):\n",
        "   ans.append((i, j))\n",
        "print(ans)\n",
        "\n",
        "#2\n",
        "\n",
        "\n"
      ],
      "execution_count": 49,
      "outputs": [
        {
          "output_type": "stream",
          "name": "stdout",
          "text": [
            "[(0, 0), (0, 1), (0, 2), (0, 3), (1, 0), (1, 1), (1, 2), (1, 3), (2, 0), (2, 1), (2, 2), (2, 3)]\n"
          ]
        }
      ]
    },
    {
      "cell_type": "markdown",
      "metadata": {
        "id": "YMKntNTCGsXk"
      },
      "source": [
        "2\\. Convert the function $f$ into a function that doesn't use global variables and that does not modify the original list"
      ]
    },
    {
      "cell_type": "code",
      "metadata": {
        "id": "kg3oUwH5GsXl"
      },
      "source": [
        "x = 5\n",
        "def f(alist):\n",
        "    for i in range(x):\n",
        "         alist.append(i)\n",
        "    return alist\n",
        "\n",
        "alist = [1,2,3]\n",
        "ans = f(alist)\n",
        "print(ans)\n",
        "print(alist) # alist has been changed!"
      ],
      "execution_count": null,
      "outputs": []
    },
    {
      "cell_type": "code",
      "metadata": {
        "id": "p5DK02VoGsXl"
      },
      "source": [
        ""
      ],
      "execution_count": null,
      "outputs": []
    },
    {
      "cell_type": "markdown",
      "metadata": {
        "id": "HuyFtehOGsXl"
      },
      "source": [
        "3\\. Write a `decorator` hello that makes every wrapped function print “Hello!”, i.e. something like:\n",
        "\n",
        "```python\n",
        "@hello\n",
        "def square(x):\n",
        "    return x*x\n",
        "```\n",
        "\n"
      ]
    },
    {
      "cell_type": "code",
      "metadata": {
        "colab": {
          "base_uri": "https://localhost:8080/"
        },
        "id": "DcxVOgZQGsXm",
        "outputId": "33dbf35a-a7bf-4aa1-98b1-042b84414a95"
      },
      "source": [
        "def my_decorator(func):\n",
        "    def wrapper():\n",
        "        func()\n",
        "    return wrapper\n",
        "\n",
        "def say_hello():\n",
        "    print(\"Hello!\")\n",
        "\n",
        "say_hello = my_decorator(say_hello)\n",
        "say_hello()"
      ],
      "execution_count": 6,
      "outputs": [
        {
          "output_type": "stream",
          "name": "stdout",
          "text": [
            "Hello!\n"
          ]
        }
      ]
    },
    {
      "cell_type": "markdown",
      "metadata": {
        "id": "qw-_NE2OGsXn"
      },
      "source": [
        "4\\. Write the factorial function in two different ways, so that it a) does and b) does not use recursion."
      ]
    },
    {
      "cell_type": "code",
      "metadata": {
        "colab": {
          "base_uri": "https://localhost:8080/"
        },
        "id": "MvNSVltLGsXn",
        "outputId": "1714ea57-a383-477e-d7cf-0d10310f55d1"
      },
      "source": [
        "#recursion\n",
        "\n",
        "def factorial(n):\n",
        "\n",
        "  if(n==0):\n",
        "    return 1;\n",
        "\n",
        "  return n*factorial(n-1)\n",
        "  \n",
        "print([factorial(i) for i in range(10)])\n",
        "\n",
        "#without recursion\n",
        "\n",
        "def factorial(n):\n",
        "\n",
        "  if(n==0):\n",
        "    return 1;\n",
        "\n",
        "  result = 1\n",
        "  for i in range(1,n+1):\n",
        "         result = result * i\n",
        "  return result\n",
        "\n",
        "print(factorial(5))\n",
        "\n"
      ],
      "execution_count": 22,
      "outputs": [
        {
          "output_type": "stream",
          "name": "stdout",
          "text": [
            "[1, 1, 2, 6, 24, 120, 720, 5040, 40320, 362880]\n",
            "120\n"
          ]
        }
      ]
    },
    {
      "cell_type": "markdown",
      "metadata": {
        "id": "Y-QGQl-FGsXn"
      },
      "source": [
        "5\\. Use HOFs (zip in particular) to compute the weight of a circle, a disk and a sphere, assuming different radii and different densities:\n",
        "\n",
        "```python\n",
        "densities = {\"Al\" : [0.5, 1, 2], \"Fe\" : [3, 4, 5], \"Pb\" : [15, 20, 30]}\n",
        "radii = [1, 2, 3]\n",
        "```\n",
        "\n",
        "where the entries of the dictionary's values are the linear, superficial and volumetric densities of the materials respectively.\n",
        "\n",
        "Subsequently, define a list using a comprehension with three lambda functions that compute the circumference, the area and the volume for a given radius.\n"
      ]
    },
    {
      "cell_type": "code",
      "metadata": {
        "colab": {
          "base_uri": "https://localhost:8080/"
        },
        "id": "nMJHI61oGsXo",
        "outputId": "72e9857e-5fc4-4328-90a3-16f3504c4e53"
      },
      "source": [
        "Al = [0.5, 1, 2]\n",
        "Fe = [3, 4, 5]\n",
        "Pb = [15, 20, 30]\n",
        "for x, y, z in zip(Al, Fe, Pb):\n",
        "    print(x, y, z)"
      ],
      "execution_count": 54,
      "outputs": [
        {
          "output_type": "stream",
          "name": "stdout",
          "text": [
            "0.5 3 15\n",
            "1 4 20\n",
            "2 5 30\n"
          ]
        }
      ]
    },
    {
      "cell_type": "markdown",
      "metadata": {
        "id": "PrKlVSN3GsXo"
      },
      "source": [
        "6\\. Edit the class defintion to add an instance attribute of `is_hungry = True` to the Dog class. Then add a method called `eat()` which changes the value of `is_hungry` to `False` when called. Figure out the best way to instantiate the dog objects and to feed the dogs, e.g. call the `eat()` method for all instances. Finally, print “My dogs are hungry.” or “My dogs are not hungry.” if all of them have `is_hungry = True` or `False`, respectively. The final output should look like this:\n",
        "\n",
        "`I have 3 dogs. \n",
        "Tom is 6. \n",
        "Fletcher is 7. \n",
        "Larry is 9. \n",
        "And they're all mammals, of course. \n",
        "My dogs are not hungry.\n",
        "`\n",
        "\n",
        "```python\n",
        "# Parent class\n",
        "class Dog:\n",
        "\n",
        "    # Class attribute\n",
        "    species = 'mammal'\n",
        "\n",
        "    # Initializer / Instance attributes\n",
        "    def __init__(self, name, age):\n",
        "        self.name = name\n",
        "        self.age = age\n",
        "\n",
        "    # instance method\n",
        "    def description(self):\n",
        "        return \"{} is {} years old\".format(self.name, self.age)\n",
        "\n",
        "    # instance method\n",
        "    def speak(self, sound):\n",
        "        return \"{} says {}\".format(self.name, sound)\n",
        "\n",
        "# Child class (inherits from Dog class)\n",
        "class RussellTerrier(Dog):\n",
        "    def run(self, speed):\n",
        "        return \"{} runs {}\".format(self.name, speed)\n",
        "\n",
        "# Child class (inherits from Dog class)\n",
        "class Bulldog(Dog):\n",
        "    def run(self, speed):\n",
        "        return \"{} runs {}\".format(self.name, speed)\n",
        "```"
      ]
    },
    {
      "cell_type": "code",
      "metadata": {
        "id": "EUlgp2m3GsXp"
      },
      "source": [
        "# Parent class\n",
        "class Dog:\n",
        "\n",
        "    # Class attribute\n",
        "    species = 'mammal'\n",
        "\n",
        "    # Initializer / Instance attributes\n",
        "    def __init__(self, name, age):\n",
        "        self.name = name\n",
        "        self.age = age\n",
        "\n",
        "    # instance method\n",
        "    def description(self):\n",
        "        return \"{} is {} years old\".format(self.name, self.age)\n",
        "\n",
        "    # instance method\n",
        "    def speak(self, sound):\n",
        "        return \"{} says {}\".format(self.name, sound)\n",
        "\n",
        "# Child class (inherits from Dog class)\n",
        "class RussellTerrier(Dog):\n",
        "    def run(self, speed):\n",
        "        return \"{} runs {}\".format(self.name, speed)\n",
        "\n",
        "# Child class (inherits from Dog class)\n",
        "class Bulldog(Dog):\n",
        "    def run(self, speed):\n",
        "        return \"{} runs {}\".format(self.name, speed)"
      ],
      "execution_count": null,
      "outputs": []
    }
  ]
}