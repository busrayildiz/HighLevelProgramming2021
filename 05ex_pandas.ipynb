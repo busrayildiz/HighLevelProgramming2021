{
  "nbformat": 4,
  "nbformat_minor": 0,
  "metadata": {
    "kernelspec": {
      "display_name": "Python 3",
      "language": "python",
      "name": "python3"
    },
    "language_info": {
      "codemirror_mode": {
        "name": "ipython",
        "version": 3
      },
      "file_extension": ".py",
      "mimetype": "text/x-python",
      "name": "python",
      "nbconvert_exporter": "python",
      "pygments_lexer": "ipython3",
      "version": "3.8.5"
    },
    "colab": {
      "name": "05ex_pandas.ipynb",
      "provenance": [],
      "collapsed_sections": []
    }
  },
  "cells": [
    {
      "cell_type": "markdown",
      "metadata": {
        "id": "qreYmxDhBvHs"
      },
      "source": [
        "This exercise consists in analyzing a dataset containg timing information from a series of Time-to-Digital-Converters (TDC) implemented in a pair of FPGAs. Each measurement (i.e. each row of the input file) consists of a flag that specifies the type of message ('HEAD', which in this case is always 1), two addresses of the TDC providing the signal ('FPGA' and 'TDC_CHANNEL'), and the timing information ('ORBIT_CNT', 'BX_COUNTER', and 'TDC_MEAS'). Each TDC count corresponds to 25/30 ns, whereas a unit of BX_COUNTER corresponds to 25 ns, and the ORBIT_CNT is increased every 'x' BX_COUNTER. This allows to store the time in a similar way to hours, minutes and seconds."
      ]
    },
    {
      "cell_type": "code",
      "metadata": {
        "colab": {
          "base_uri": "https://localhost:8080/"
        },
        "id": "EtArmlGeBvHu",
        "outputId": "c4702ec3-4fd8-41f6-937a-a50f0eb30398"
      },
      "source": [
        "# If haven't downloaded it yet, please get the data file with wget\n",
        "!wget https://www.dropbox.com/s/xvjzaxzz3ysphme/data_000637.txt -P ./data/"
      ],
      "execution_count": 5,
      "outputs": [
        {
          "output_type": "stream",
          "name": "stdout",
          "text": [
            "--2021-12-06 18:48:37--  https://www.dropbox.com/s/xvjzaxzz3ysphme/data_000637.txt\n",
            "Resolving www.dropbox.com (www.dropbox.com)... 162.125.6.18, 2620:100:601c:18::a27d:612\n",
            "Connecting to www.dropbox.com (www.dropbox.com)|162.125.6.18|:443... connected.\n",
            "HTTP request sent, awaiting response... 301 Moved Permanently\n",
            "Location: /s/raw/xvjzaxzz3ysphme/data_000637.txt [following]\n",
            "--2021-12-06 18:48:37--  https://www.dropbox.com/s/raw/xvjzaxzz3ysphme/data_000637.txt\n",
            "Reusing existing connection to www.dropbox.com:443.\n",
            "HTTP request sent, awaiting response... 302 Found\n",
            "Location: https://uccf6bd700aa6bfad6b48ae386d8.dl.dropboxusercontent.com/cd/0/inline/BbXf82mZ8FR8PWqFqQpyYeDszAj2Bae03fsv01vALUcSHBDiwxeI7gy4qCPKKJM9qDKH4eNZIIs2hNRorPRzL1gis09azxHV3v8rAXz66ajVASWjfttMUXd4gJ2AAx2DqfxNwtk57z5cuOSdv3_6KjUk/file# [following]\n",
            "--2021-12-06 18:48:37--  https://uccf6bd700aa6bfad6b48ae386d8.dl.dropboxusercontent.com/cd/0/inline/BbXf82mZ8FR8PWqFqQpyYeDszAj2Bae03fsv01vALUcSHBDiwxeI7gy4qCPKKJM9qDKH4eNZIIs2hNRorPRzL1gis09azxHV3v8rAXz66ajVASWjfttMUXd4gJ2AAx2DqfxNwtk57z5cuOSdv3_6KjUk/file\n",
            "Resolving uccf6bd700aa6bfad6b48ae386d8.dl.dropboxusercontent.com (uccf6bd700aa6bfad6b48ae386d8.dl.dropboxusercontent.com)... 162.125.6.15, 2620:100:601c:15::a27d:60f\n",
            "Connecting to uccf6bd700aa6bfad6b48ae386d8.dl.dropboxusercontent.com (uccf6bd700aa6bfad6b48ae386d8.dl.dropboxusercontent.com)|162.125.6.15|:443... connected.\n",
            "HTTP request sent, awaiting response... 200 OK\n",
            "Length: 33179236 (32M) [text/plain]\n",
            "Saving to: ‘./data/data_000637.txt.1’\n",
            "\n",
            "data_000637.txt.1   100%[===================>]  31.64M   164MB/s    in 0.2s    \n",
            "\n",
            "2021-12-06 18:48:37 (164 MB/s) - ‘./data/data_000637.txt.1’ saved [33179236/33179236]\n",
            "\n"
          ]
        }
      ]
    },
    {
      "cell_type": "markdown",
      "metadata": {
        "id": "nkEet7DwC0Pk"
      },
      "source": [
        "# New Section"
      ]
    },
    {
      "cell_type": "markdown",
      "metadata": {
        "id": "62gOQUsEBvHv"
      },
      "source": [
        "1\\. Create a Pandas DataFrame reading N rows of the `data/data_000637.txt` dataset. Choose N to be smaller than or equal to the maximum number of rows and larger that 10k (check the documentation)."
      ]
    },
    {
      "cell_type": "code",
      "metadata": {
        "colab": {
          "base_uri": "https://localhost:8080/",
          "height": 424
        },
        "id": "WTwF0ADMBvHv",
        "outputId": "729be3a7-1269-4572-faab-dc2a467116e6"
      },
      "source": [
        "import pandas as pd \n",
        "import numpy as np\n",
        "\n",
        "N = 1000000\n",
        "df = pd.read_csv('data/data_000637.txt',nrows=N)\n",
        "display(df)\n"
      ],
      "execution_count": 6,
      "outputs": [
        {
          "output_type": "display_data",
          "data": {
            "text/html": [
              "<div>\n",
              "<style scoped>\n",
              "    .dataframe tbody tr th:only-of-type {\n",
              "        vertical-align: middle;\n",
              "    }\n",
              "\n",
              "    .dataframe tbody tr th {\n",
              "        vertical-align: top;\n",
              "    }\n",
              "\n",
              "    .dataframe thead th {\n",
              "        text-align: right;\n",
              "    }\n",
              "</style>\n",
              "<table border=\"1\" class=\"dataframe\">\n",
              "  <thead>\n",
              "    <tr style=\"text-align: right;\">\n",
              "      <th></th>\n",
              "      <th>HEAD</th>\n",
              "      <th>FPGA</th>\n",
              "      <th>TDC_CHANNEL</th>\n",
              "      <th>ORBIT_CNT</th>\n",
              "      <th>BX_COUNTER</th>\n",
              "      <th>TDC_MEAS</th>\n",
              "    </tr>\n",
              "  </thead>\n",
              "  <tbody>\n",
              "    <tr>\n",
              "      <th>0</th>\n",
              "      <td>1</td>\n",
              "      <td>0</td>\n",
              "      <td>123</td>\n",
              "      <td>3869200167</td>\n",
              "      <td>2374</td>\n",
              "      <td>26</td>\n",
              "    </tr>\n",
              "    <tr>\n",
              "      <th>1</th>\n",
              "      <td>1</td>\n",
              "      <td>0</td>\n",
              "      <td>124</td>\n",
              "      <td>3869200167</td>\n",
              "      <td>2374</td>\n",
              "      <td>27</td>\n",
              "    </tr>\n",
              "    <tr>\n",
              "      <th>2</th>\n",
              "      <td>1</td>\n",
              "      <td>0</td>\n",
              "      <td>63</td>\n",
              "      <td>3869200167</td>\n",
              "      <td>2553</td>\n",
              "      <td>28</td>\n",
              "    </tr>\n",
              "    <tr>\n",
              "      <th>3</th>\n",
              "      <td>1</td>\n",
              "      <td>0</td>\n",
              "      <td>64</td>\n",
              "      <td>3869200167</td>\n",
              "      <td>2558</td>\n",
              "      <td>19</td>\n",
              "    </tr>\n",
              "    <tr>\n",
              "      <th>4</th>\n",
              "      <td>1</td>\n",
              "      <td>0</td>\n",
              "      <td>64</td>\n",
              "      <td>3869200167</td>\n",
              "      <td>2760</td>\n",
              "      <td>25</td>\n",
              "    </tr>\n",
              "    <tr>\n",
              "      <th>...</th>\n",
              "      <td>...</td>\n",
              "      <td>...</td>\n",
              "      <td>...</td>\n",
              "      <td>...</td>\n",
              "      <td>...</td>\n",
              "      <td>...</td>\n",
              "    </tr>\n",
              "    <tr>\n",
              "      <th>999995</th>\n",
              "      <td>1</td>\n",
              "      <td>0</td>\n",
              "      <td>62</td>\n",
              "      <td>3869209011</td>\n",
              "      <td>2560</td>\n",
              "      <td>29</td>\n",
              "    </tr>\n",
              "    <tr>\n",
              "      <th>999996</th>\n",
              "      <td>1</td>\n",
              "      <td>0</td>\n",
              "      <td>51</td>\n",
              "      <td>3869209011</td>\n",
              "      <td>2561</td>\n",
              "      <td>12</td>\n",
              "    </tr>\n",
              "    <tr>\n",
              "      <th>999997</th>\n",
              "      <td>1</td>\n",
              "      <td>0</td>\n",
              "      <td>61</td>\n",
              "      <td>3869209011</td>\n",
              "      <td>2562</td>\n",
              "      <td>2</td>\n",
              "    </tr>\n",
              "    <tr>\n",
              "      <th>999998</th>\n",
              "      <td>1</td>\n",
              "      <td>0</td>\n",
              "      <td>50</td>\n",
              "      <td>3869209011</td>\n",
              "      <td>2563</td>\n",
              "      <td>4</td>\n",
              "    </tr>\n",
              "    <tr>\n",
              "      <th>999999</th>\n",
              "      <td>1</td>\n",
              "      <td>0</td>\n",
              "      <td>60</td>\n",
              "      <td>3869209011</td>\n",
              "      <td>2688</td>\n",
              "      <td>25</td>\n",
              "    </tr>\n",
              "  </tbody>\n",
              "</table>\n",
              "<p>1000000 rows × 6 columns</p>\n",
              "</div>"
            ],
            "text/plain": [
              "        HEAD  FPGA  TDC_CHANNEL   ORBIT_CNT  BX_COUNTER  TDC_MEAS\n",
              "0          1     0          123  3869200167        2374        26\n",
              "1          1     0          124  3869200167        2374        27\n",
              "2          1     0           63  3869200167        2553        28\n",
              "3          1     0           64  3869200167        2558        19\n",
              "4          1     0           64  3869200167        2760        25\n",
              "...      ...   ...          ...         ...         ...       ...\n",
              "999995     1     0           62  3869209011        2560        29\n",
              "999996     1     0           51  3869209011        2561        12\n",
              "999997     1     0           61  3869209011        2562         2\n",
              "999998     1     0           50  3869209011        2563         4\n",
              "999999     1     0           60  3869209011        2688        25\n",
              "\n",
              "[1000000 rows x 6 columns]"
            ]
          },
          "metadata": {}
        }
      ]
    },
    {
      "cell_type": "markdown",
      "metadata": {
        "id": "ic4skh9-BvHw"
      },
      "source": [
        "2\\. Estimate the number of BX in a ORBIT (the value 'x')."
      ]
    },
    {
      "cell_type": "code",
      "metadata": {
        "colab": {
          "base_uri": "https://localhost:8080/"
        },
        "id": "tHQVY8TjBvHw",
        "outputId": "16b8a197-a8b2-4b26-d7bf-16933aeead09"
      },
      "source": [
        "max_bx = df['BX_COUNTER'].max() + 1\n",
        "print(\"estimation: \", max_bx)\n"
      ],
      "execution_count": 7,
      "outputs": [
        {
          "output_type": "stream",
          "name": "stdout",
          "text": [
            "estimation:  3564\n"
          ]
        }
      ]
    },
    {
      "cell_type": "markdown",
      "metadata": {
        "id": "AUzJ5vjDBvHw"
      },
      "source": [
        "3\\. Find out the duration of the data taking in hours, minutes and seconds. You can either make an estimate based on the fraction of the measurements (rows) you read, or perform this check precisely by reading the whole dataset."
      ]
    },
    {
      "cell_type": "code",
      "metadata": {
        "colab": {
          "base_uri": "https://localhost:8080/"
        },
        "id": "O4g-WiDpBvHw",
        "outputId": "0e9229d9-5321-4859-bdd0-4c650814d1ad"
      },
      "source": [
        "#and the timing information ('ORBIT_CNT', 'BX_COUNTER', and 'TDC_MEAS')\n",
        "\n",
        "max_tdc = max(df[\"TDC_MEAS\"]) + 1\n",
        "\n",
        "dif_orbit = max(df[\"ORBIT_CNT\"]) - min(df[\"ORBIT_CNT\"])\n",
        "\n",
        "bx_with_max_orbit = df.loc[df['ORBIT_CNT'] == max(df[\"ORBIT_CNT\"])]\n",
        "bx_with_min_orbit = df.loc[df['ORBIT_CNT'] == min(df[\"ORBIT_CNT\"])]\n",
        "\n",
        "dif_bx = max(bx_with_max_orbit[\"BX_COUNTER\"]) - min(bx_with_min_orbit[\"BX_COUNTER\"])\n",
        "\n",
        "tdc_with_max_bx = bx_with_max_orbit.loc[bx_with_max_orbit['BX_COUNTER'] == max(bx_with_max_orbit[\"BX_COUNTER\"])]\n",
        "tdc_with_min_bx = bx_with_min_orbit.loc[bx_with_min_orbit['BX_COUNTER'] == min(bx_with_min_orbit[\"BX_COUNTER\"])]\n",
        "\n",
        "dif_tdc = max(tdc_with_max_bx[\"TDC_MEAS\"]) - min(tdc_with_min_bx[\"TDC_MEAS\"])\n",
        "\n",
        "if(dif_tdc < 0):\n",
        "    dif_bx = dif_bx - 1\n",
        "    dif_tdc = dif_tdc + max_tdc\n",
        "\n",
        "print(dif_orbit, \" orbit \")\n",
        "print(dif_bx, \" bx\")\n",
        "print(dif_tdc, \" tdc\")\n",
        "\n",
        "print(((dif_orbit*max_bx)+dif_bx)*25*1e-9 + dif_tdc * 25/30*1e-9, \" seconds\")"
      ],
      "execution_count": 8,
      "outputs": [
        {
          "output_type": "stream",
          "name": "stdout",
          "text": [
            "8844  orbit \n",
            "313  bx\n",
            "29  tdc\n",
            "0.7880082491666667  seconds\n"
          ]
        }
      ]
    },
    {
      "cell_type": "markdown",
      "metadata": {
        "id": "CfO5kpW5BvHx"
      },
      "source": [
        "4\\. Create a new column with the absolute time in ns (as a combination of the other three columns with timing information) since the beginning of the data acquisition."
      ]
    },
    {
      "cell_type": "code",
      "metadata": {
        "colab": {
          "base_uri": "https://localhost:8080/",
          "height": 424
        },
        "id": "bw-fPHj_BvHx",
        "outputId": "07c9df50-9607-400c-bf0e-1d562cb12a29"
      },
      "source": [
        "initial_ns = (min(df[\"ORBIT_CNT\"])*max_bx + min(bx_with_min_orbit[\"BX_COUNTER\"])) * 25 + min(tdc_with_min_bx[\"TDC_MEAS\"]) * 25/30                                                                                                 \n",
        "df['NS_PASSED'] = ((df['ORBIT_CNT']*max_bx + df['BX_COUNTER']) * 25 + df['TDC_MEAS']*25/30) - initial_ns\n",
        "df"
      ],
      "execution_count": 9,
      "outputs": [
        {
          "output_type": "execute_result",
          "data": {
            "text/html": [
              "<div>\n",
              "<style scoped>\n",
              "    .dataframe tbody tr th:only-of-type {\n",
              "        vertical-align: middle;\n",
              "    }\n",
              "\n",
              "    .dataframe tbody tr th {\n",
              "        vertical-align: top;\n",
              "    }\n",
              "\n",
              "    .dataframe thead th {\n",
              "        text-align: right;\n",
              "    }\n",
              "</style>\n",
              "<table border=\"1\" class=\"dataframe\">\n",
              "  <thead>\n",
              "    <tr style=\"text-align: right;\">\n",
              "      <th></th>\n",
              "      <th>HEAD</th>\n",
              "      <th>FPGA</th>\n",
              "      <th>TDC_CHANNEL</th>\n",
              "      <th>ORBIT_CNT</th>\n",
              "      <th>BX_COUNTER</th>\n",
              "      <th>TDC_MEAS</th>\n",
              "      <th>NS_PASSED</th>\n",
              "    </tr>\n",
              "  </thead>\n",
              "  <tbody>\n",
              "    <tr>\n",
              "      <th>0</th>\n",
              "      <td>1</td>\n",
              "      <td>0</td>\n",
              "      <td>123</td>\n",
              "      <td>3869200167</td>\n",
              "      <td>2374</td>\n",
              "      <td>26</td>\n",
              "      <td>0.000000e+00</td>\n",
              "    </tr>\n",
              "    <tr>\n",
              "      <th>1</th>\n",
              "      <td>1</td>\n",
              "      <td>0</td>\n",
              "      <td>124</td>\n",
              "      <td>3869200167</td>\n",
              "      <td>2374</td>\n",
              "      <td>27</td>\n",
              "      <td>8.125000e-01</td>\n",
              "    </tr>\n",
              "    <tr>\n",
              "      <th>2</th>\n",
              "      <td>1</td>\n",
              "      <td>0</td>\n",
              "      <td>63</td>\n",
              "      <td>3869200167</td>\n",
              "      <td>2553</td>\n",
              "      <td>28</td>\n",
              "      <td>4.476625e+03</td>\n",
              "    </tr>\n",
              "    <tr>\n",
              "      <th>3</th>\n",
              "      <td>1</td>\n",
              "      <td>0</td>\n",
              "      <td>64</td>\n",
              "      <td>3869200167</td>\n",
              "      <td>2558</td>\n",
              "      <td>19</td>\n",
              "      <td>4.594125e+03</td>\n",
              "    </tr>\n",
              "    <tr>\n",
              "      <th>4</th>\n",
              "      <td>1</td>\n",
              "      <td>0</td>\n",
              "      <td>64</td>\n",
              "      <td>3869200167</td>\n",
              "      <td>2760</td>\n",
              "      <td>25</td>\n",
              "      <td>9.649125e+03</td>\n",
              "    </tr>\n",
              "    <tr>\n",
              "      <th>...</th>\n",
              "      <td>...</td>\n",
              "      <td>...</td>\n",
              "      <td>...</td>\n",
              "      <td>...</td>\n",
              "      <td>...</td>\n",
              "      <td>...</td>\n",
              "      <td>...</td>\n",
              "    </tr>\n",
              "    <tr>\n",
              "      <th>999995</th>\n",
              "      <td>1</td>\n",
              "      <td>0</td>\n",
              "      <td>62</td>\n",
              "      <td>3869209011</td>\n",
              "      <td>2560</td>\n",
              "      <td>29</td>\n",
              "      <td>7.880051e+08</td>\n",
              "    </tr>\n",
              "    <tr>\n",
              "      <th>999996</th>\n",
              "      <td>1</td>\n",
              "      <td>0</td>\n",
              "      <td>51</td>\n",
              "      <td>3869209011</td>\n",
              "      <td>2561</td>\n",
              "      <td>12</td>\n",
              "      <td>7.880051e+08</td>\n",
              "    </tr>\n",
              "    <tr>\n",
              "      <th>999997</th>\n",
              "      <td>1</td>\n",
              "      <td>0</td>\n",
              "      <td>61</td>\n",
              "      <td>3869209011</td>\n",
              "      <td>2562</td>\n",
              "      <td>2</td>\n",
              "      <td>7.880051e+08</td>\n",
              "    </tr>\n",
              "    <tr>\n",
              "      <th>999998</th>\n",
              "      <td>1</td>\n",
              "      <td>0</td>\n",
              "      <td>50</td>\n",
              "      <td>3869209011</td>\n",
              "      <td>2563</td>\n",
              "      <td>4</td>\n",
              "      <td>7.880051e+08</td>\n",
              "    </tr>\n",
              "    <tr>\n",
              "      <th>999999</th>\n",
              "      <td>1</td>\n",
              "      <td>0</td>\n",
              "      <td>60</td>\n",
              "      <td>3869209011</td>\n",
              "      <td>2688</td>\n",
              "      <td>25</td>\n",
              "      <td>7.880082e+08</td>\n",
              "    </tr>\n",
              "  </tbody>\n",
              "</table>\n",
              "<p>1000000 rows × 7 columns</p>\n",
              "</div>"
            ],
            "text/plain": [
              "        HEAD  FPGA  TDC_CHANNEL   ORBIT_CNT  BX_COUNTER  TDC_MEAS     NS_PASSED\n",
              "0          1     0          123  3869200167        2374        26  0.000000e+00\n",
              "1          1     0          124  3869200167        2374        27  8.125000e-01\n",
              "2          1     0           63  3869200167        2553        28  4.476625e+03\n",
              "3          1     0           64  3869200167        2558        19  4.594125e+03\n",
              "4          1     0           64  3869200167        2760        25  9.649125e+03\n",
              "...      ...   ...          ...         ...         ...       ...           ...\n",
              "999995     1     0           62  3869209011        2560        29  7.880051e+08\n",
              "999996     1     0           51  3869209011        2561        12  7.880051e+08\n",
              "999997     1     0           61  3869209011        2562         2  7.880051e+08\n",
              "999998     1     0           50  3869209011        2563         4  7.880051e+08\n",
              "999999     1     0           60  3869209011        2688        25  7.880082e+08\n",
              "\n",
              "[1000000 rows x 7 columns]"
            ]
          },
          "metadata": {},
          "execution_count": 9
        }
      ]
    },
    {
      "cell_type": "markdown",
      "metadata": {
        "id": "hRw_JAcyBvHx"
      },
      "source": [
        "5\\. Use the `.groupby()` method to find out the noisy channels, i.e. the TDC channels with most counts (print to screen the top 3 and the corresponding counts)"
      ]
    },
    {
      "cell_type": "code",
      "metadata": {
        "colab": {
          "base_uri": "https://localhost:8080/"
        },
        "id": "QtpgMdRtBvHx",
        "outputId": "45c3d5f9-fbf2-4e65-a80a-10c9cd7ecd08"
      },
      "source": [
        "noisy_channels = df.groupby(by=[\"TDC_CHANNEL\"]).size().sort_values(ascending = False).head(3)\n",
        "noisy_channels"
      ],
      "execution_count": 10,
      "outputs": [
        {
          "output_type": "execute_result",
          "data": {
            "text/plain": [
              "TDC_CHANNEL\n",
              "139    82677\n",
              "64     50201\n",
              "63     49335\n",
              "dtype: int64"
            ]
          },
          "metadata": {},
          "execution_count": 10
        }
      ]
    },
    {
      "cell_type": "markdown",
      "metadata": {
        "id": "rUmU8GKaBvHy"
      },
      "source": [
        "6\\. Count the number of non-empty orbits (i.e. the number of orbits with at least one hit). Count also the number of unique orbits with at least one measurement from TDC_CHANNEL=139."
      ]
    },
    {
      "cell_type": "code",
      "metadata": {
        "colab": {
          "base_uri": "https://localhost:8080/"
        },
        "id": "R_ybaCdkBvHy",
        "outputId": "787ae1bc-2ee7-469c-ea56-34d067d99fc1"
      },
      "source": [
        "non_empty_orbits = df.groupby('ORBIT_CNT')\n",
        "print(\"Number of non-empty orbits: \", len(non_empty_orbits))\n",
        "\n",
        "tdc_channel_139 = df[df['TDC_CHANNEL'] == 139].groupby('ORBIT_CNT')\n",
        "print(\"Number of unique orbits where TDC_CHANNEL is equal to 139: \", len(tdc_channel_139))\n"
      ],
      "execution_count": 16,
      "outputs": [
        {
          "output_type": "stream",
          "name": "stdout",
          "text": [
            "Number of non-empty orbits:  8841\n",
            "Number of unique orbits where TDC_CHANNEL is equal to 139:  8816\n"
          ]
        }
      ]
    },
    {
      "cell_type": "markdown",
      "metadata": {
        "id": "up5ytb62BvHy"
      },
      "source": [
        "7\\. **Optional:** Make two occupancy plots (one for each FPGA), i.e. plot the number of counts per TDC channel"
      ]
    },
    {
      "cell_type": "code",
      "metadata": {
        "id": "VpfCa01fBvHy"
      },
      "source": [
        ""
      ],
      "execution_count": null,
      "outputs": []
    }
  ]
}