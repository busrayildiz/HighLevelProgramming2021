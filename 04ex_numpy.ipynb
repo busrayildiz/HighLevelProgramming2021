{
  "nbformat": 4,
  "nbformat_minor": 0,
  "metadata": {
    "kernelspec": {
      "display_name": "Python 3",
      "language": "python",
      "name": "python3"
    },
    "language_info": {
      "codemirror_mode": {
        "name": "ipython",
        "version": 3
      },
      "file_extension": ".py",
      "mimetype": "text/x-python",
      "name": "python",
      "nbconvert_exporter": "python",
      "pygments_lexer": "ipython3",
      "version": "3.8.5"
    },
    "colab": {
      "name": "04ex_numpy.ipynb",
      "provenance": [],
      "collapsed_sections": []
    }
  },
  "cells": [
    {
      "cell_type": "markdown",
      "metadata": {
        "id": "pqsBO8GNOkfQ"
      },
      "source": [
        "1\\. Find the total mean, and the mean for each row and column of the following matrix:\n",
        "\n",
        "```python\n",
        "m = np.arange(12).reshape((3,4))\n",
        "```"
      ]
    },
    {
      "cell_type": "code",
      "metadata": {
        "colab": {
          "base_uri": "https://localhost:8080/"
        },
        "id": "-lNuY2fsOkfS",
        "outputId": "db80cb99-2686-4632-8abe-d10e36d09e21"
      },
      "source": [
        "import numpy as np\n",
        "m = np.arange(12).reshape((3,4))\n",
        "print(m)\n",
        "\n",
        "#rows\n",
        "print(\"\\n Rows\") \n",
        "print(\"\\n\", np.mean(m[0]))\n",
        "print(\"\\n\", np.mean(m[1]))\n",
        "print(\"\\n\", np.mean(m[2]))\n",
        "\n",
        "#columns\n",
        "print(\"\\n Columns\") \n",
        "print( np.mean(m[:,0])) \n",
        "print( np.mean(m[:,1])) \n",
        "print( np.mean(m[:,2])) \n",
        "print( np.mean(m[:,3])) \n"
      ],
      "execution_count": null,
      "outputs": [
        {
          "output_type": "stream",
          "name": "stdout",
          "text": [
            "[[ 0  1  2  3]\n",
            " [ 4  5  6  7]\n",
            " [ 8  9 10 11]]\n",
            "\n",
            " Rows\n",
            "\n",
            " 1.5\n",
            "\n",
            " 5.5\n",
            "\n",
            " 9.5\n",
            "\n",
            " Columns\n",
            "4.0\n",
            "5.0\n",
            "6.0\n",
            "7.0\n"
          ]
        }
      ]
    },
    {
      "cell_type": "markdown",
      "metadata": {
        "id": "fqzxIhczOkfS"
      },
      "source": [
        "2\\. Find the outer product of the following vectors:\n",
        "\n",
        "```python\n",
        "u = np.array([1, 3, 5, 7])\n",
        "v = np.array([2, 4, 6, 8])\n",
        "```\n",
        "\n",
        "Use different methods to do this:\n",
        "\n",
        "   1. Using the function `outer` in numpy\n",
        "   2. Using a nested `for` loop or a list comprehension\n",
        "   3. Using numpy broadcasting operations"
      ]
    },
    {
      "cell_type": "code",
      "metadata": {
        "colab": {
          "base_uri": "https://localhost:8080/"
        },
        "id": "ubYfsjiGOkfT",
        "outputId": "6f3c8939-0580-424e-b3a7-dd367a18d6fe"
      },
      "source": [
        "#1. Using the function `outer` in numpy\n",
        "u = np.array([1, 3, 5, 7])\n",
        "v = np.array([2, 4, 6, 8])\n",
        "print(\"u: \",u)\n",
        "print(\"v: \",v)\n",
        "\n",
        "result = np.outer(v, u)\n",
        "print(\"result:  \\n\",result)"
      ],
      "execution_count": null,
      "outputs": [
        {
          "output_type": "stream",
          "name": "stdout",
          "text": [
            "u:  [1 3 5 7]\n",
            "v:  [2 4 6 8]\n",
            "result:  \n",
            " [[ 2  6 10 14]\n",
            " [ 4 12 20 28]\n",
            " [ 6 18 30 42]\n",
            " [ 8 24 40 56]]\n"
          ]
        }
      ]
    },
    {
      "cell_type": "code",
      "metadata": {
        "colab": {
          "base_uri": "https://localhost:8080/"
        },
        "id": "-UBjl8IQZijy",
        "outputId": "9ad45a1e-c26d-4562-9ac2-54db04bd7a1e"
      },
      "source": [
        "#2. Using a nested `for` loop or a list comprehension\n",
        "\n",
        "list = [i*j for i in u for j in v]\n",
        "list = np.array(list)\n",
        "result=list.reshape(4, 4)\n",
        "print(\"result: \\n\", result)"
      ],
      "execution_count": null,
      "outputs": [
        {
          "output_type": "stream",
          "name": "stdout",
          "text": [
            "result: \n",
            " [[ 2  4  6  8]\n",
            " [ 6 12 18 24]\n",
            " [10 20 30 40]\n",
            " [14 28 42 56]]\n"
          ]
        }
      ]
    },
    {
      "cell_type": "code",
      "metadata": {
        "colab": {
          "base_uri": "https://localhost:8080/"
        },
        "id": "xJpvC2fxbIkd",
        "outputId": "3e9174c1-4219-44e0-ceb2-abadbfb4fc83"
      },
      "source": [
        "#3. Using numpy broadcasting operations\n",
        "\n",
        "v = np.array(v)[np.newaxis]\n",
        "result = u*v.T\n",
        "print(\"result: \\n\", result.T)"
      ],
      "execution_count": null,
      "outputs": [
        {
          "output_type": "stream",
          "name": "stdout",
          "text": [
            "result: \n",
            " [[ 2  4  6  8]\n",
            " [ 6 12 18 24]\n",
            " [10 20 30 40]\n",
            " [14 28 42 56]]\n"
          ]
        }
      ]
    },
    {
      "cell_type": "markdown",
      "metadata": {
        "id": "qE0dAVfPOkfT"
      },
      "source": [
        "3\\. Create a 10 by 6 matrix of increasing float numbers, starting from zero and increasing in each step by 0.1, so the output matrix looks like the following:\n",
        "\n",
        "```python\n",
        "m = [[0. 0.1, 0.2 0.3 ... 0.9]\n",
        "     [1.0 1.1 1.2 1.3 ... 1.9]\n",
        "     ...\n",
        "     [5.0 5.1 5.2 5.3 ... 5.9]]\n",
        "```\n",
        "After creating the matrix, set all entries with a decimal part $< 0.4$ to zero."
      ]
    },
    {
      "cell_type": "code",
      "metadata": {
        "colab": {
          "base_uri": "https://localhost:8080/"
        },
        "id": "adZcqJu5OkfU",
        "outputId": "43cf9ab6-27e9-4cfd-9ed4-29261879778c"
      },
      "source": [
        "m = np.arange(0, 6, 0.1).reshape((6,10))\n",
        "print(m)\n",
        "\n",
        "for i in range(len(m)):\n",
        "    for j in range(10):\n",
        "        if m[i][j] % 1 < 0.4:\n",
        "            m[i][j] = 0\n",
        "print(\"\\n\", m)"
      ],
      "execution_count": null,
      "outputs": [
        {
          "output_type": "stream",
          "name": "stdout",
          "text": [
            "[[0.  0.1 0.2 0.3 0.4 0.5 0.6 0.7 0.8 0.9]\n",
            " [1.  1.1 1.2 1.3 1.4 1.5 1.6 1.7 1.8 1.9]\n",
            " [2.  2.1 2.2 2.3 2.4 2.5 2.6 2.7 2.8 2.9]\n",
            " [3.  3.1 3.2 3.3 3.4 3.5 3.6 3.7 3.8 3.9]\n",
            " [4.  4.1 4.2 4.3 4.4 4.5 4.6 4.7 4.8 4.9]\n",
            " [5.  5.1 5.2 5.3 5.4 5.5 5.6 5.7 5.8 5.9]]\n",
            "\n",
            " [[0.  0.  0.  0.  0.4 0.5 0.6 0.7 0.8 0.9]\n",
            " [0.  0.  0.  0.  1.4 1.5 1.6 1.7 1.8 1.9]\n",
            " [0.  0.  0.  0.  2.4 2.5 2.6 2.7 2.8 2.9]\n",
            " [0.  0.  0.  0.  3.4 3.5 3.6 3.7 3.8 3.9]\n",
            " [0.  0.  0.  0.  4.4 4.5 4.6 4.7 4.8 4.9]\n",
            " [0.  0.  0.  0.  5.4 5.5 5.6 5.7 5.8 5.9]]\n"
          ]
        }
      ]
    },
    {
      "cell_type": "markdown",
      "metadata": {
        "id": "bEczX5VTOkfU"
      },
      "source": [
        "4\\. Use `np.linspace` to create an array of 100 numbers between 0 and 2π (inclusive).\n",
        "\n",
        "  * Extract every 10th element using the slice notation\n",
        "  * Reverse the array using the slice notation\n",
        "  * Extract elements where the absolute difference between the sin and cos functions evaluated for that element is $< 0.1$\n",
        "  * **Optional**: make a plot showing the sin and cos functions and indicate where they are close"
      ]
    },
    {
      "cell_type": "code",
      "metadata": {
        "colab": {
          "base_uri": "https://localhost:8080/",
          "height": 1000
        },
        "id": "YFnyX5PXOkfb",
        "outputId": "7cf5e2aa-690d-49e2-cc7d-431561f6777b"
      },
      "source": [
        "from math import pi\n",
        "\n",
        "x = np.linspace(0, 2*pi , 100)\n",
        "print(\"x:\\n\", x)\n",
        "\n",
        "\n",
        "# Extract every 10th element using the slice notation\n",
        "y = x[9:100:10]\n",
        "print(\"\\n y:\\n\", y)\n",
        "\n",
        "#Reverse the array using the slice notation\n",
        "reversed=x[::-1]\n",
        "print(\"\\nReversed arr:\\n \",reversed,\"\\n\")\n",
        "\n",
        "#Extract elements where the absolute difference between the sin and cos functions evaluated for that element is $< 0.1$\n",
        "mask = (np.absolute(np.cos(a)-np.sin(a)) < 0.1)\n",
        "result=x[mask]\n",
        "print(\"\\nresult:\\n\", result)\n",
        "\n",
        "\n",
        "#**Optional**: make a plot showing the sin and cos functions and indicate where they are close\n",
        "import numpy as np\n",
        "import matplotlib.pyplot as plt\n",
        "\n",
        "sin = np.sin(x)\n",
        "cos = np.cos(x)\n",
        "plt.plot(x, sin, x,cos)\n",
        "plt.title(\"the sin and cos functions\")\n",
        "plt.xlabel(\"100 numbers between 0 and 2π\")\n",
        "plt.ylabel(\"sin(x) and cos(x)\")\n",
        "plt.legend([\"sin(x)\",\"cos(x)\"])\n",
        "plt.show"
      ],
      "execution_count": null,
      "outputs": [
        {
          "output_type": "stream",
          "name": "stdout",
          "text": [
            "x:\n",
            " [0.         0.06346652 0.12693304 0.19039955 0.25386607 0.31733259\n",
            " 0.38079911 0.44426563 0.50773215 0.57119866 0.63466518 0.6981317\n",
            " 0.76159822 0.82506474 0.88853126 0.95199777 1.01546429 1.07893081\n",
            " 1.14239733 1.20586385 1.26933037 1.33279688 1.3962634  1.45972992\n",
            " 1.52319644 1.58666296 1.65012947 1.71359599 1.77706251 1.84052903\n",
            " 1.90399555 1.96746207 2.03092858 2.0943951  2.15786162 2.22132814\n",
            " 2.28479466 2.34826118 2.41172769 2.47519421 2.53866073 2.60212725\n",
            " 2.66559377 2.72906028 2.7925268  2.85599332 2.91945984 2.98292636\n",
            " 3.04639288 3.10985939 3.17332591 3.23679243 3.30025895 3.36372547\n",
            " 3.42719199 3.4906585  3.55412502 3.61759154 3.68105806 3.74452458\n",
            " 3.8079911  3.87145761 3.93492413 3.99839065 4.06185717 4.12532369\n",
            " 4.1887902  4.25225672 4.31572324 4.37918976 4.44265628 4.5061228\n",
            " 4.56958931 4.63305583 4.69652235 4.75998887 4.82345539 4.88692191\n",
            " 4.95038842 5.01385494 5.07732146 5.14078798 5.2042545  5.26772102\n",
            " 5.33118753 5.39465405 5.45812057 5.52158709 5.58505361 5.64852012\n",
            " 5.71198664 5.77545316 5.83891968 5.9023862  5.96585272 6.02931923\n",
            " 6.09278575 6.15625227 6.21971879 6.28318531]\n",
            "\n",
            " y:\n",
            " [0.57119866 1.20586385 1.84052903 2.47519421 3.10985939 3.74452458\n",
            " 4.37918976 5.01385494 5.64852012 6.28318531]\n",
            "\n",
            "Reversed arr:\n",
            "  [6.28318531 6.21971879 6.15625227 6.09278575 6.02931923 5.96585272\n",
            " 5.9023862  5.83891968 5.77545316 5.71198664 5.64852012 5.58505361\n",
            " 5.52158709 5.45812057 5.39465405 5.33118753 5.26772102 5.2042545\n",
            " 5.14078798 5.07732146 5.01385494 4.95038842 4.88692191 4.82345539\n",
            " 4.75998887 4.69652235 4.63305583 4.56958931 4.5061228  4.44265628\n",
            " 4.37918976 4.31572324 4.25225672 4.1887902  4.12532369 4.06185717\n",
            " 3.99839065 3.93492413 3.87145761 3.8079911  3.74452458 3.68105806\n",
            " 3.61759154 3.55412502 3.4906585  3.42719199 3.36372547 3.30025895\n",
            " 3.23679243 3.17332591 3.10985939 3.04639288 2.98292636 2.91945984\n",
            " 2.85599332 2.7925268  2.72906028 2.66559377 2.60212725 2.53866073\n",
            " 2.47519421 2.41172769 2.34826118 2.28479466 2.22132814 2.15786162\n",
            " 2.0943951  2.03092858 1.96746207 1.90399555 1.84052903 1.77706251\n",
            " 1.71359599 1.65012947 1.58666296 1.52319644 1.45972992 1.3962634\n",
            " 1.33279688 1.26933037 1.20586385 1.14239733 1.07893081 1.01546429\n",
            " 0.95199777 0.88853126 0.82506474 0.76159822 0.6981317  0.63466518\n",
            " 0.57119866 0.50773215 0.44426563 0.38079911 0.31733259 0.25386607\n",
            " 0.19039955 0.12693304 0.06346652 0.        ] \n",
            "\n",
            "\n",
            "result:\n",
            " [0.76159822 0.82506474 3.87145761 3.93492413]\n"
          ]
        },
        {
          "output_type": "execute_result",
          "data": {
            "text/plain": [
              "<function matplotlib.pyplot.show>"
            ]
          },
          "metadata": {},
          "execution_count": 41
        },
        {
          "output_type": "display_data",
          "data": {
            "image/png": "[encoded data removed]",
            "text/plain": [
              "<Figure size 432x288 with 1 Axes>"
            ]
          },
          "metadata": {
            "needs_background": "light"
          }
        }
      ]
    },
    {
      "cell_type": "markdown",
      "metadata": {
        "id": "1ChIl0rwOkfb"
      },
      "source": [
        "5\\. Create a matrix that shows the 10 by 10 multiplication table.\n",
        "\n",
        " * Find the trace of the matrix\n",
        " * Extract the anti-diagonal matrix (this should be ```array([10, 18, 24, 28, 30, 30, 28, 24, 18, 10])```)\n",
        " * Extract the diagonal offset by 1 upwards (this should be ```array([ 2,  6, 12, 20, 30, 42, 56, 72, 90])```)"
      ]
    },
    {
      "cell_type": "code",
      "metadata": {
        "colab": {
          "base_uri": "https://localhost:8080/"
        },
        "id": "wzHmj5NYOkfc",
        "outputId": "7fe31e7b-36a7-47a5-85c0-57bef3ab31d7"
      },
      "source": [
        "a = np.arange(1, 11)[np.newaxis]\n",
        "\n",
        "trace=a*a.T\n",
        "print(\"trace: \\n\", trace)\n",
        "\n",
        "# * Find the trace of the matrix\n",
        "print(\"\\ntrace: \", np.trace(trace))\n",
        "\n",
        "#* Extract the anti-diagonal matrix (this should be ```array([10, 18, 24, 28, 30, 30, 28, 24, 18, 10])```)\n",
        "antidiagonal = np.fliplr(trace).diagonal()\n",
        "print(\"\\nantidiagonal: \", antidiagonal)\n",
        "\n",
        "#* Extract the diagonal offset by 1 upwards (this should be ```array([ 2,  6, 12, 20, 30, 42, 56, 72, 90])```)\n",
        "diag_off = trace[np.arange(1,10), np.arange(9)]\n",
        "print(\"\\ndiagonal offset by 1: \", diag_off)\n"
      ],
      "execution_count": null,
      "outputs": [
        {
          "output_type": "stream",
          "name": "stdout",
          "text": [
            "trace: \n",
            " [[  1   2   3   4   5   6   7   8   9  10]\n",
            " [  2   4   6   8  10  12  14  16  18  20]\n",
            " [  3   6   9  12  15  18  21  24  27  30]\n",
            " [  4   8  12  16  20  24  28  32  36  40]\n",
            " [  5  10  15  20  25  30  35  40  45  50]\n",
            " [  6  12  18  24  30  36  42  48  54  60]\n",
            " [  7  14  21  28  35  42  49  56  63  70]\n",
            " [  8  16  24  32  40  48  56  64  72  80]\n",
            " [  9  18  27  36  45  54  63  72  81  90]\n",
            " [ 10  20  30  40  50  60  70  80  90 100]]\n",
            "\n",
            "trace:  385\n",
            "\n",
            "antidiagonal:  [10 18 24 28 30 30 28 24 18 10]\n",
            "\n",
            "diagonal offset by 1:  [ 2  6 12 20 30 42 56 72 90]\n"
          ]
        }
      ]
    },
    {
      "cell_type": "markdown",
      "metadata": {
        "id": "uVaNeJZcOkfc"
      },
      "source": [
        "6\\. Use broadcasting to create a grid of distances.\n",
        "\n",
        "Route 66 crosses the following cities in the US: Chicago, Springfield, Saint-Louis, Tulsa, Oklahoma City, Amarillo, Santa Fe, Albuquerque, Flagstaff, Los Angeles\n",
        "The corresponding positions in miles are: 0, 198, 303, 736, 871, 1175, 1475, 1544, 1913, 2448\n",
        "\n",
        "  * Build a 2D grid of distances among each city along Route 66\n",
        "  * Convert the distances in km"
      ]
    },
    {
      "cell_type": "code",
      "metadata": {
        "colab": {
          "base_uri": "https://localhost:8080/"
        },
        "id": "_EonMW9COkfc",
        "outputId": "45c00009-f28b-492d-966d-8927d10de9b2"
      },
      "source": [
        "cities = np.array([\"Chicago\", \"Springfield\", \"Saint-Louis\", \"Tulsa\", \"Oklahoma City\", \"Amarillo\", \"Santa Fe\", \"Albuquerque\", \"Flagstaff\", \"Los Angeles\"])\n",
        "miles = np.array([0, 198, 303, 736, 871, 1175, 1475, 1544, 1913, 2448])\n",
        "\n",
        "#Build a 2D grid of distances among each city along Route 66\n",
        "dist_miles = np.abs(miles - miles[:, np.newaxis])\n",
        "print(\"Distance in miles: \\n\", dist_miles)\n",
        "\n",
        "#Convert the distances in km\n",
        "dist_km = dist_miles*1.60934\n",
        "print(\"\\nDistance in km: \\n\", dist_km.round())\n"
      ],
      "execution_count": null,
      "outputs": [
        {
          "output_type": "stream",
          "name": "stdout",
          "text": [
            "Distance in miles: \n",
            " [[   0  198  303  736  871 1175 1475 1544 1913 2448]\n",
            " [ 198    0  105  538  673  977 1277 1346 1715 2250]\n",
            " [ 303  105    0  433  568  872 1172 1241 1610 2145]\n",
            " [ 736  538  433    0  135  439  739  808 1177 1712]\n",
            " [ 871  673  568  135    0  304  604  673 1042 1577]\n",
            " [1175  977  872  439  304    0  300  369  738 1273]\n",
            " [1475 1277 1172  739  604  300    0   69  438  973]\n",
            " [1544 1346 1241  808  673  369   69    0  369  904]\n",
            " [1913 1715 1610 1177 1042  738  438  369    0  535]\n",
            " [2448 2250 2145 1712 1577 1273  973  904  535    0]]\n",
            "\n",
            "Distance in km: \n",
            " [[   0.  319.  488. 1184. 1402. 1891. 2374. 2485. 3079. 3940.]\n",
            " [ 319.    0.  169.  866. 1083. 1572. 2055. 2166. 2760. 3621.]\n",
            " [ 488.  169.    0.  697.  914. 1403. 1886. 1997. 2591. 3452.]\n",
            " [1184.  866.  697.    0.  217.  707. 1189. 1300. 1894. 2755.]\n",
            " [1402. 1083.  914.  217.    0.  489.  972. 1083. 1677. 2538.]\n",
            " [1891. 1572. 1403.  707.  489.    0.  483.  594. 1188. 2049.]\n",
            " [2374. 2055. 1886. 1189.  972.  483.    0.  111.  705. 1566.]\n",
            " [2485. 2166. 1997. 1300. 1083.  594.  111.    0.  594. 1455.]\n",
            " [3079. 2760. 2591. 1894. 1677. 1188.  705.  594.    0.  861.]\n",
            " [3940. 3621. 3452. 2755. 2538. 2049. 1566. 1455.  861.    0.]]\n"
          ]
        }
      ]
    },
    {
      "cell_type": "markdown",
      "metadata": {
        "id": "jdRdWXYmOkfc"
      },
      "source": [
        "7\\. Prime numbers sieve: compute the prime numbers in the 0-N (start with N=99) range with a sieve (mask).\n",
        "  * Check the performances (timeit); how does it scale with N?\n",
        "  * Implement the optimization suggested in the [sieve of Eratosthenes](https://en.wikipedia.org/wiki/Sieve_of_Eratosthenes)"
      ]
    },
    {
      "cell_type": "code",
      "metadata": {
        "id": "cn1oX_7mOkfc"
      },
      "source": [
        ""
      ],
      "execution_count": null,
      "outputs": []
    }
  ]
}