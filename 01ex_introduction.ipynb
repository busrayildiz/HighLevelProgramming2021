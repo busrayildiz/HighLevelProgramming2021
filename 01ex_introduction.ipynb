{
  "nbformat": 4,
  "nbformat_minor": 0,
  "metadata": {
    "kernelspec": {
      "display_name": "Python 3",
      "language": "python",
      "name": "python3"
    },
    "language_info": {
      "codemirror_mode": {
        "name": "ipython",
        "version": 3
      },
      "file_extension": ".py",
      "mimetype": "text/x-python",
      "name": "python",
      "nbconvert_exporter": "python",
      "pygments_lexer": "ipython3",
      "version": "3.8.5"
    },
    "colab": {
      "name": "01ex_introduction.ipynb",
      "provenance": [],
      "collapsed_sections": []
    }
  },
  "cells": [
    {
      "cell_type": "markdown",
      "metadata": {
        "id": "UT9PLVGtGovr"
      },
      "source": [
        "1. The HelloWorld replacement\n",
        "\n",
        "a) Write a program that prints the numbers from 1 to 100. But for multiples of three print \"Hello\" instead of the number and for the multiples of five print \"World\". For numbers which are multiples of both three and five print \"HelloWorld\".\n",
        "\n",
        "b) Put the result in a tuple and substitute \"Hello\" with \"Python\" and \"World\" with \"Works\"."
      ]
    },
    {
      "cell_type": "code",
      "metadata": {
        "colab": {
          "base_uri": "https://localhost:8080/"
        },
        "id": "xtc8YZIXGxtY",
        "outputId": "1ee77801-c2f8-4430-d944-06bace6e72c5"
      },
      "source": [
        "a =[]\n",
        "\n",
        "for number in range(100):\n",
        "   if (number+1)%3==0 and (number+1)%5==0 :\n",
        "     a.append((\"HelloWorld\"))\n",
        "   elif (number+1)%3== 0:\n",
        "     a.append((\"Hello\"))\n",
        "   elif (number+1)%5== 0:\n",
        "     a.append((\"World\"))\n",
        "   else: \n",
        "     a.append((number+1))\n",
        "\n",
        "a = tuple(a) \n",
        "\n",
        "b=list(a)\n",
        "\n",
        "for x in range(100):\n",
        "   if a[x]==\"Hello\":\n",
        "     b[x]=\"Python\"\n",
        "   elif a[x]==\"World\":\n",
        "     b[x]=\"Works\"\n",
        "   elif a[x]==\"HelloWorld\": \n",
        "     b[x]=\"PythonWorks\"\n",
        "\n",
        "print(b) \n"
      ],
      "execution_count": null,
      "outputs": [
        {
          "output_type": "stream",
          "name": "stdout",
          "text": [
            "[1, 2, 'Python', 4, 'Works', 'Python', 7, 8, 'Python', 'Works', 11, 'Python', 13, 14, 'PythonWorks', 16, 17, 'Python', 19, 'Works', 'Python', 22, 23, 'Python', 'Works', 26, 'Python', 28, 29, 'PythonWorks', 31, 32, 'Python', 34, 'Works', 'Python', 37, 38, 'Python', 'Works', 41, 'Python', 43, 44, 'PythonWorks', 46, 47, 'Python', 49, 'Works', 'Python', 52, 53, 'Python', 'Works', 56, 'Python', 58, 59, 'PythonWorks', 61, 62, 'Python', 64, 'Works', 'Python', 67, 68, 'Python', 'Works', 71, 'Python', 73, 74, 'PythonWorks', 76, 77, 'Python', 79, 'Works', 'Python', 82, 83, 'Python', 'Works', 86, 'Python', 88, 89, 'PythonWorks', 91, 92, 'Python', 94, 'Works', 'Python', 97, 98, 'Python', 'Works']\n"
          ]
        }
      ]
    },
    {
      "cell_type": "markdown",
      "metadata": {
        "id": "UuOKGhxiGovu"
      },
      "source": [
        "2\\. The swap function\n",
        "\n",
        "Write a function that swap the values of two input variables x and y (whatever the type). Try to do that also without a temporary variable"
      ]
    },
    {
      "cell_type": "code",
      "metadata": {
        "colab": {
          "base_uri": "https://localhost:8080/"
        },
        "id": "vlg2YuVsXFEF",
        "outputId": "1395c0b4-060b-4ced-e9f0-af2afb880cfb"
      },
      "source": [
        "x = 10\n",
        "y = 50\n",
        " \n",
        "# Swapping of two variables\n",
        "# Using temporary variable\n",
        "temp = x\n",
        "x = y\n",
        "y = temp\n",
        " \n",
        "print(\"Value of x:\", x)\n",
        "print(\"Value of y:\", y)\n",
        "\n"
      ],
      "execution_count": null,
      "outputs": [
        {
          "output_type": "stream",
          "name": "stdout",
          "text": [
            "Value of x: 50\n",
            "Value of y: 10\n"
          ]
        }
      ]
    },
    {
      "cell_type": "code",
      "metadata": {
        "id": "KCnJNT2_ZF8-"
      },
      "source": [
        "# Swapping of two variables\n",
        "# without using third variable\n",
        "\n",
        "x = 10\n",
        "y = 50\n",
        "\n",
        "x, y = y, x\n",
        " \n",
        "print(\"Value of x:\", x)\n",
        "print(\"Value of y:\", y)\n"
      ],
      "execution_count": null,
      "outputs": []
    },
    {
      "cell_type": "markdown",
      "metadata": {
        "id": "Yg7OcnrhGovu"
      },
      "source": [
        "3\\. Computing the distance\n",
        "\n",
        "Write a function that calculates and returns the euclidean distance between two points *u* and *v*, where *u* and *v* are both 2-tuples *(x,y)*. For example, if *u=(3,0)* and *v=(0,4)*, the function should return 5"
      ]
    },
    {
      "cell_type": "code",
      "metadata": {
        "id": "9-lQ_Pu0ZY4K",
        "colab": {
          "base_uri": "https://localhost:8080/"
        },
        "outputId": "1720de6e-908f-40a4-a11c-62e7bcd386d2"
      },
      "source": [
        "import math\n",
        "u = [3, 0]\n",
        "v = [0, 4]\n",
        "distance = math.sqrt( ((u[0]-v[0])**2)+((u[1]-v[1])**2) )\n",
        "\n",
        "print(distance)"
      ],
      "execution_count": null,
      "outputs": [
        {
          "output_type": "stream",
          "name": "stdout",
          "text": [
            "5.0\n"
          ]
        }
      ]
    },
    {
      "cell_type": "markdown",
      "metadata": {
        "id": "-4bTfwFMGovv"
      },
      "source": [
        "4\\. Counting letters\n",
        "\n",
        "Write a program to calculate the number of times each character occurs in a given string *s*. Ignore differences in capitalization"
      ]
    },
    {
      "cell_type": "code",
      "metadata": {
        "id": "2OduiTyOGovv"
      },
      "source": [
        "s = \"Write a program that prints the numbers from 1 to 100. \\\n",
        "But for multiples of three print Hello instead of the number and for the multiples of five print World. \\\n",
        "For numbers which are multiples of both three and five print HelloWorld.\""
      ],
      "execution_count": 59,
      "outputs": []
    },
    {
      "cell_type": "code",
      "metadata": {
        "id": "B3jFVRhmInuD",
        "colab": {
          "base_uri": "https://localhost:8080/",
          "height": 52
        },
        "outputId": "f4cf3302-15dc-4372-ba4d-ce87d7fab33e"
      },
      "source": [
        "\n",
        "s.lower()"
      ],
      "execution_count": 60,
      "outputs": [
        {
          "output_type": "execute_result",
          "data": {
            "application/vnd.google.colaboratory.intrinsic+json": {
              "type": "string"
            },
            "text/plain": [
              "'write a program that prints the numbers from 1 to 100. but for multiples of three print hello instead of the number and for the multiples of five print world. for numbers which are multiples of both three and five print helloworld.'"
            ]
          },
          "metadata": {},
          "execution_count": 60
        }
      ]
    },
    {
      "cell_type": "markdown",
      "metadata": {
        "id": "Xxfz9GgRGovw"
      },
      "source": [
        "5\\. Isolating the unique\n",
        "\n",
        "Write a function that determines and count the unique numbers in the list:"
      ]
    },
    {
      "cell_type": "code",
      "metadata": {
        "id": "Wq0avpKbGovx"
      },
      "source": [
        "l = [36, 45, 58, 3, 74, 96, 64, 45, 31, 10, 24, 19, 33, 86, 99, 18, 63, 70, 85,\n",
        " 85, 63, 47, 56, 42, 70, 84, 88, 55, 20, 54, 8, 56, 51, 79, 81, 57, 37, 91,\n",
        " 1, 84, 84, 36, 66, 9, 89, 50, 42, 91, 50, 95, 90, 98, 39, 16, 82, 31, 92, 41,\n",
        " 45, 30, 66, 70, 34, 85, 94, 5, 3, 36, 72, 91, 84, 34, 87, 75, 53, 51, 20, 89, 51, 20]"
      ],
      "execution_count": 46,
      "outputs": []
    },
    {
      "cell_type": "code",
      "metadata": {
        "colab": {
          "base_uri": "https://localhost:8080/"
        },
        "id": "1Rr7PULILFA1",
        "outputId": "32103b8e-b28c-4bca-be6c-8b6216dfb2f3"
      },
      "source": [
        "l1 = []\n",
        "count = 0\n",
        "\n",
        "for item in l:\n",
        "    if item not in l1:\n",
        "        count += 1\n",
        "        l1.append(item)\n",
        "\n",
        "print(\"No of unique items are:\", count)"
      ],
      "execution_count": 49,
      "outputs": [
        {
          "output_type": "stream",
          "name": "stdout",
          "text": [
            "No of unique items are: 54\n"
          ]
        }
      ]
    },
    {
      "cell_type": "markdown",
      "metadata": {
        "id": "ip1D93zVGovx"
      },
      "source": [
        "Do the same without using user-defined functions, but exploiting only the Python data structures."
      ]
    },
    {
      "cell_type": "markdown",
      "metadata": {
        "id": "JBW7ZLjdGovx"
      },
      "source": [
        "6\\. Combination of functions\n",
        "\n",
        "Write two functions - one that returns the square of a number, and one that returns the cube. Now write a third function that returns the number raised to the 6th power using the two previous functions."
      ]
    },
    {
      "cell_type": "code",
      "metadata": {
        "colab": {
          "base_uri": "https://localhost:8080/"
        },
        "id": "9i0JradtNTE4",
        "outputId": "2de75221-a905-4ce3-a816-e8d92bef1103"
      },
      "source": [
        "def square(num):\n",
        "  return num ** 2\n",
        "\n",
        "def cube(num):\n",
        "  return num ** 3\n",
        "\n",
        "def sixthpower(num):\n",
        "  return cube(square(num))\n",
        "\n",
        "#2*2=4\n",
        "#2*2*2=8\n",
        "#2*2*2*2*2*2=64\n",
        "\n",
        "sixthpower(2)\n",
        "\n"
      ],
      "execution_count": 53,
      "outputs": [
        {
          "output_type": "execute_result",
          "data": {
            "text/plain": [
              "64"
            ]
          },
          "metadata": {},
          "execution_count": 53
        }
      ]
    },
    {
      "cell_type": "markdown",
      "metadata": {
        "id": "QdeGyQDEGovx"
      },
      "source": [
        "7\\. Cubes\n",
        "\n",
        "Create a list of the cubes of x for x in *[0, 10]* using:\n",
        "\n",
        "a) a for loop\n",
        "\n",
        "b) a list comprehension"
      ]
    },
    {
      "cell_type": "code",
      "metadata": {
        "colab": {
          "base_uri": "https://localhost:8080/"
        },
        "id": "eWiT_K25OnpC",
        "outputId": "e66380ea-327a-4dc5-c640-8ffc1241e239"
      },
      "source": [
        "#a)a for loop\n",
        "for i in range(11):\n",
        "    print(i, end=\" \")\n",
        "print()\n",
        "\n",
        "def cube(num):\n",
        "  return num ** 3\n",
        "\n",
        "for i in range(11):\n",
        "    print(cube(i), end=\" \")\n",
        "\n",
        "print()\n",
        "# b) list comprehension\n",
        "\n",
        "nums = [0, 1, 2, 3, 4, 5, 6, 7, 8, 9, 10]\n",
        "newlist = [i**3 for i in nums]\n",
        "\n",
        "print(newlist)"
      ],
      "execution_count": 71,
      "outputs": [
        {
          "output_type": "stream",
          "name": "stdout",
          "text": [
            "0 1 2 3 4 5 6 7 8 9 10 \n",
            "0 1 8 27 64 125 216 343 512 729 1000 \n",
            "[0, 1, 8, 27, 64, 125, 216, 343, 512, 729, 1000]\n"
          ]
        }
      ]
    },
    {
      "cell_type": "markdown",
      "metadata": {
        "id": "l8rCT5S8Govy"
      },
      "source": [
        "8\\. Nested list comprehension\n",
        "\n",
        "A Pythagorean triple is an integer solution to the Pythagorean theorem $a^2+b^2=c^2$. The first Pythagorean triple is (3,4,5). Find and put in a tuple all unique Pythagorean triples for the positive integers a, b and c less than 100."
      ]
    },
    {
      "cell_type": "code",
      "metadata": {
        "colab": {
          "base_uri": "https://localhost:8080/"
        },
        "id": "1Z787hs4R6Ha",
        "outputId": "68c7d4d2-f178-4fb3-95cc-6050d6b1e804"
      },
      "source": [
        "def pythagoreanTriplets(limits) :\n",
        "    c, m = 0, 2\n",
        " \n",
        "    while c < limits :\n",
        "         \n",
        "        for n in range(1, m) :\n",
        "            a = m * m - n * n\n",
        "            b = 2 * m * n\n",
        "            c = m * m + n * n\n",
        " \n",
        "            if c > limits :\n",
        "                break\n",
        " \n",
        "            print(a, b, c)\n",
        " \n",
        "        m = m + 1\n",
        "\n",
        "if __name__ == '__main__' :\n",
        "     \n",
        "    limit = 100\n",
        "    pythagoreanTriplets(limit)\n",
        " "
      ],
      "execution_count": 73,
      "outputs": [
        {
          "output_type": "stream",
          "name": "stdout",
          "text": [
            "3 4 5\n",
            "8 6 10\n",
            "5 12 13\n",
            "15 8 17\n",
            "12 16 20\n",
            "7 24 25\n",
            "24 10 26\n",
            "21 20 29\n",
            "16 30 34\n",
            "9 40 41\n",
            "35 12 37\n",
            "32 24 40\n",
            "27 36 45\n",
            "20 48 52\n",
            "11 60 61\n",
            "48 14 50\n",
            "45 28 53\n",
            "40 42 58\n",
            "33 56 65\n",
            "24 70 74\n",
            "13 84 85\n",
            "63 16 65\n",
            "60 32 68\n",
            "55 48 73\n",
            "48 64 80\n",
            "39 80 89\n",
            "28 96 100\n"
          ]
        }
      ]
    },
    {
      "cell_type": "markdown",
      "metadata": {
        "id": "MRN37RxHGovz"
      },
      "source": [
        "9\\. Normalization\n",
        "\n",
        "Write a function that takes a tuple of numbers and returns it with the entries normalized to one"
      ]
    },
    {
      "cell_type": "code",
      "metadata": {
        "id": "iBcxw2yjGovz",
        "colab": {
          "base_uri": "https://localhost:8080/"
        },
        "outputId": "e88c4630-40fe-4b2d-dad9-d492f5fa503a"
      },
      "source": [
        "a = [5, 6, 75]  \n",
        "\n",
        "norm = [(float(i)-min(a))/(max(a)-min(a)) for i in a]\n",
        "print(norm)"
      ],
      "execution_count": 87,
      "outputs": [
        {
          "output_type": "stream",
          "name": "stdout",
          "text": [
            "[0.0, 0.014285714285714285, 1.0]\n"
          ]
        }
      ]
    }
  ]
}